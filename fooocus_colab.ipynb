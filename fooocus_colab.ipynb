{
  "cells": [
    {
      "cell_type": "code",
      "source": [],
      "metadata": {
        "id": "KmxYCJeck7FX"
      },
      "execution_count": null,
      "outputs": []
    },
    {
      "cell_type": "code",
      "source": [
        "#-----------------------------\n",
        "# SCRIPT 1\n",
        "# 📂 Mount Google Drive\n",
        "#-----------------------------\n",
        "from google.colab import drive\n",
        "import os\n",
        "drive.mount('/content/drive')\n",
        "#-----------------------------\n",
        "#eof"
      ],
      "metadata": {
        "id": "qQZTCISDmB_f"
      },
      "execution_count": null,
      "outputs": []
    },
    {
      "cell_type": "code",
      "source": [
        "#-----------------------------\n",
        "# SCRIPT 2\n",
        "# change dir into app folder\n",
        "#-----------------------------------------------\n",
        "BASE_DIR    = '/content/drive/MyDrive/colab'\n",
        "FOOOCUS_DIR = BASE_DIR + '/Fooocus'\n",
        "#-----------------------------------------------\n",
        "\n",
        "EXISTS_BASE_DIR = os.path.isdir(BASE_DIR)\n",
        "exit\n",
        "\n",
        "%clear\n",
        "%cd $FOOOCUS_DIR\n",
        "%ls -l $FOOOCUS_DIR\n",
        "#-----------------------------\n",
        "\n",
        "#Install PYTHON\n",
        "print (\"install Python 1.15.1\")\n",
        "!pip install pygit2==1.15.1\n",
        "\n",
        "#eof"
      ],
      "metadata": {
        "id": "SEc5SnBJm7Z3",
        "outputId": "71f93096-5384-4573-84fa-2daf0a5b530f",
        "colab": {
          "base_uri": "https://localhost:8080/"
        }
      },
      "execution_count": 53,
      "outputs": [
        {
          "output_type": "stream",
          "name": "stdout",
          "text": [
            "\u001b[H\u001b[2J/content/drive/MyDrive/colab/Fooocus\n",
            "total 320\n",
            "-rw------- 1 root root  3117 Jun 14 07:19 args_manager.py\n",
            "-rw------- 1 root root   111 Jun 14 07:19 auth-example.json\n",
            "-rw------- 1 root root   838 Jun 14 07:19 build_launcher.py\n",
            "-rw------- 1 root root  6565 Jun 14 12:01 config_modification_tutorial.txt\n",
            "-rw------- 1 root root  1153 Jun 14 07:22 config.txt\n",
            "drwx------ 2 root root  4096 Jun 14 07:19 \u001b[0m\u001b[01;34mcss\u001b[0m/\n",
            "-rw------- 1 root root   178 Jun 14 07:19 development.md\n",
            "-rw------- 1 root root  1483 Jun 14 07:19 docker-compose.yml\n",
            "-rw------- 1 root root  1119 Jun 14 07:19 Dockerfile\n",
            "-rw------- 1 root root  5949 Jun 14 07:19 docker.md\n",
            "-rw------- 1 root root   632 Jun 14 07:19 entrypoint.sh\n",
            "-rw------- 1 root root  1337 Jun 14 07:19 entry_with_update.py\n",
            "-rw------- 1 root root    94 Jun 14 07:19 environment.yaml\n",
            "-rw------- 1 root root   160 Jun 14 07:19 experiments_expansion.py\n",
            "-rw------- 1 root root   149 Jun 14 07:19 experiments_face.py\n",
            "-rw------- 1 root root   376 Jun 14 07:19 experiments_interrogate.py\n",
            "-rw------- 1 root root   637 Jun 14 07:19 experiments_mask_generation.py\n",
            "drwx------ 2 root root  4096 Jun 14 07:19 \u001b[01;34mextras\u001b[0m/\n",
            "-rw------- 1 root root   639 Jun 14 07:19 fooocus_colab.ipynb\n",
            "-rw------- 1 root root    17 Jun 14 07:19 fooocus_version.py\n",
            "-rw------- 1 root root     0 Jun 14 12:01 hash_cache.txt\n",
            "drwx------ 2 root root  4096 Jun 14 07:19 \u001b[01;34mjavascript\u001b[0m/\n",
            "drwx------ 2 root root  4096 Jun 14 07:19 \u001b[01;34mlanguage\u001b[0m/\n",
            "-rw------- 1 root root  6428 Jun 14 07:19 launch.py\n",
            "drwx------ 2 root root  4096 Jun 14 07:19 \u001b[01;34mldm_patched\u001b[0m/\n",
            "-rw------- 1 root root 35149 Jun 14 07:19 LICENSE\n",
            "drwx------ 2 root root  4096 Jun 14 07:19 \u001b[01;34mmodels\u001b[0m/\n",
            "drwx------ 2 root root  4096 Jun 14 07:19 \u001b[01;34mmodules\u001b[0m/\n",
            "-rw------- 1 root root 38311 Jun 14 07:19 notification-example.mp3\n",
            "drwx------ 2 root root  4096 Jun 14 07:22 \u001b[01;34moutputs\u001b[0m/\n",
            "drwx------ 2 root root  4096 Jun 14 07:19 \u001b[01;34mpresets\u001b[0m/\n",
            "drwx------ 2 root root  4096 Jun 14 07:19 \u001b[01;34m__pycache__\u001b[0m/\n",
            "-rw------- 1 root root 33354 Jun 14 07:19 readme.md\n",
            "-rw------- 1 root root    33 Jun 14 07:19 requirements_docker.txt\n",
            "-rw------- 1 root root   427 Jun 14 07:19 requirements_versions.txt\n",
            "drwx------ 2 root root  4096 Jun 14 07:19 \u001b[01;34msdxl_styles\u001b[0m/\n",
            "-rw------- 1 root root    18 Jun 14 07:19 shared.py\n",
            "-rw------- 1 root root  6696 Jun 14 08:09 sorted_styles.json\n",
            "drwx------ 2 root root  4096 Jun 14 07:19 \u001b[01;34mtests\u001b[0m/\n",
            "-rw------- 1 root root  8887 Jun 14 07:19 troubleshoot.md\n",
            "-rw------- 1 root root 29499 Jun 14 07:19 update_log.md\n",
            "-rw------- 1 root root 81640 Jun 14 07:19 webui.py\n",
            "drwx------ 2 root root  4096 Jun 14 07:19 \u001b[01;34mwildcards\u001b[0m/\n",
            "install Python 1.15.1\n",
            "Requirement already satisfied: pygit2==1.15.1 in /usr/local/lib/python3.11/dist-packages (1.15.1)\n",
            "Requirement already satisfied: cffi>=1.16.0 in /usr/local/lib/python3.11/dist-packages (from pygit2==1.15.1) (1.17.1)\n",
            "Requirement already satisfied: pycparser in /usr/local/lib/python3.11/dist-packages (from cffi>=1.16.0->pygit2==1.15.1) (2.22)\n"
          ]
        }
      ]
    },
    {
      "cell_type": "code",
      "source": [
        "#-----------------------------\n",
        "# SCRIPT 3\n",
        "# launch app\n",
        "#-----------------------------------------------\n",
        "\n",
        "print (\"Defooocus starting\")\n",
        "%cd /content/drive/MyDrive/colab/Fooocus\n",
        "!python entry_with_update.py --share --always-high-vram"
      ],
      "metadata": {
        "id": "UhoBKheamZwo",
        "outputId": "53a35f28-7d6e-4a67-eb30-2d11345fa735",
        "colab": {
          "base_uri": "https://localhost:8080/"
        }
      },
      "execution_count": 47,
      "outputs": [
        {
          "output_type": "stream",
          "name": "stdout",
          "text": [
            "Non Installo niente\n"
          ]
        }
      ]
    },
    {
      "cell_type": "code",
      "source": [
        "#-----------------------------\n",
        "# SCRIPT\n",
        "# install app, IF NOT YET INSTALLER\n",
        "#-----------------------------------------------\n",
        "IS_INSTALL = False  #@param {type:\"boolean\"}\n",
        "#--------------------------------------------\n",
        "\n",
        "if IS_INSTALL :\n",
        "  print ('Installo Deefoocus...')\n",
        "  #!pip install pygit2==1.15.1\n",
        "  #%cd $FOOCUS_DIR\n",
        "  #!git clone https://github.com/lllyasviel/Fooocus.git\n",
        "  #%cd /content/drive/MyDrive/colab/Fooocus\n",
        "  #!python entry_with_update.py --share --always-high-vram\n",
        "else :\n",
        "  print ('Non Installo niente')"
      ],
      "metadata": {
        "id": "MXQL-OrftHng",
        "outputId": "e78b5215-ba88-4290-9474-152374476a1c",
        "colab": {
          "base_uri": "https://localhost:8080/"
        }
      },
      "execution_count": 48,
      "outputs": [
        {
          "output_type": "stream",
          "name": "stdout",
          "text": [
            "Non Installo niente\n"
          ]
        }
      ]
    }
  ],
  "metadata": {
    "accelerator": "GPU",
    "colab": {
      "gpuType": "T4",
      "provenance": []
    },
    "kernelspec": {
      "display_name": "Python 3",
      "name": "python3"
    },
    "language_info": {
      "name": "python"
    }
  },
  "nbformat": 4,
  "nbformat_minor": 0
}